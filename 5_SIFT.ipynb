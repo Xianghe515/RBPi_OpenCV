{
 "cells": [
  {
   "cell_type": "code",
   "execution_count": 5,
   "metadata": {},
   "outputs": [],
   "source": [
    "# SIFT 특징점 검출\n",
    "import cv2 as cv\n",
    "\n",
    "# 영상 읽기\n",
    "img = cv.imread('./opencv_data/mot_color70.jpg')      # 영상 읽기\n",
    "\n",
    "# # gray 영상으로 변환\n",
    "# gray = cv.cvtColor(img, cv.COLOR_BGR2GRAY)\n",
    "# cv.imshow('sift 전 - gray', gray)\n",
    "\n",
    "# sift 적용\n",
    "sift = cv.SIFT_create()\n",
    "kp, des = sift.detectAndCompute(gray, None)\n",
    "\n",
    "gray = cv.drawKeypoints(gray, kp, None, flags=cv.DRAW_MATCHES_FLAGS_DRAW_RICH_KEYPOINTS)\n",
    "\n",
    "cv.imshow('sift', gray)\n",
    "\n",
    "cv.waitKey()\n",
    "cv.destroyAllWindows()"
   ]
  },
  {
   "cell_type": "code",
   "execution_count": 4,
   "metadata": {},
   "outputs": [],
   "source": [
    "# SIFT 특징점 검출\n",
    "import cv2 as cv\n",
    "\n",
    "# 영상 읽기\n",
    "img = cv.imread('./opencv_data/mot_color83.jpg')      # 영상 읽기\n",
    "\n",
    "# # gray 영상으로 변환\n",
    "# gray = cv.cvtColor(img, cv.COLOR_BGR2GRAY)\n",
    "# cv.imshow('sift 전 - gray', gray)\n",
    "\n",
    "# sift 적용\n",
    "sift = cv.SIFT_create()\n",
    "kp, des = sift.detectAndCompute(gray, None)\n",
    "\n",
    "gray = cv.drawKeypoints(gray, kp, None, flags=cv.DRAW_MATCHES_FLAGS_DRAW_RICH_KEYPOINTS)\n",
    "\n",
    "cv.imshow('sift', gray)\n",
    "\n",
    "cv.waitKey()\n",
    "cv.destroyAllWindows()"
   ]
  },
  {
   "cell_type": "code",
   "execution_count": null,
   "metadata": {},
   "outputs": [
    {
     "name": "stdout",
     "output_type": "stream",
     "text": [
      "특징점 개수: 231 4096\n",
      "매칭에 걸린 시간: 0.06824326515197754\n"
     ]
    }
   ],
   "source": [
    "import cv2 as cv\n",
    "import numpy as np\n",
    "import time\n",
    "\n",
    "img1=cv.imread('./opencv_data/mot_color70.jpg')[190:350,440:560] # 버스를 크롭하여 모델 영상으로 사용\n",
    "gray1=cv.cvtColor(img1,cv.COLOR_BGR2GRAY)\n",
    "img2=cv.imread('./opencv_data/mot_color83.jpg')              # 장면 영상\n",
    "gray2=cv.cvtColor(img2,cv.COLOR_BGR2GRAY)\n",
    "\n",
    "sift=cv.SIFT_create()\n",
    "kp1,des1=sift.detectAndCompute(gray1,None)\n",
    "kp2,des2=sift.detectAndCompute(gray2,None)\n",
    "print('특징점 개수:',len(kp1),len(kp2)) \n",
    "\n",
    "start=time.time()\n",
    "flann_matcher=cv.DescriptorMatcher_create(cv.DescriptorMatcher_FLANNBASED)\n",
    "knn_match=flann_matcher.knnMatch(des1,des2,2)\n",
    "\n",
    "T=0.7       # 임계값\n",
    "good_match=[]\n",
    "for nearest1,nearest2 in knn_match:\n",
    "    if (nearest1.distance/nearest2.distance)<T:\n",
    "        good_match.append(nearest1)\n",
    "print('매칭에 걸린 시간:',time.time()-start) \n",
    "\n",
    "img_match=np.empty((max(img1.shape[0],img2.shape[0]),img1.shape[1]+img2.shape[1],3),dtype=np.uint8)\n",
    "cv.drawMatches(img1,kp1,img2,kp2,good_match,img_match,flags=cv.DrawMatchesFlags_NOT_DRAW_SINGLE_POINTS)\n",
    "\n",
    "cv.imshow('Good Matches', img_match)\n",
    "\n",
    "k=cv.waitKey()\n",
    "cv.destroyAllWindows()"
   ]
  },
  {
   "cell_type": "code",
   "execution_count": null,
   "metadata": {},
   "outputs": [],
   "source": [
    "import cv2 as cv\n",
    "import numpy as np\n",
    "\n",
    "img1=cv.imread('./opencv_data/mot_color70.jpg')[190:350,440:560] # 버스를 크롭하여 모델 영상으로 사용\n",
    "gray1=cv.cvtColor(img1,cv.COLOR_BGR2GRAY)\n",
    "img2=cv.imread('./opencv_data/mot_color83.jpg')              # 장면 영상\n",
    "gray2=cv.cvtColor(img2,cv.COLOR_BGR2GRAY)\n",
    "\n",
    "sift=cv.SIFT_create()\n",
    "kp1,des1=sift.detectAndCompute(gray1,None)\n",
    "kp2,des2=sift.detectAndCompute(gray2,None)\n",
    "\n",
    "flann_matcher=cv.DescriptorMatcher_create(cv.DescriptorMatcher_FLANNBASED)\n",
    "knn_match=flann_matcher.knnMatch(des1,des2,2)   # 최근접 2개\n",
    "\n",
    "T=0.7\n",
    "good_match=[]\n",
    "for nearest1,nearest2 in knn_match:\n",
    "    if (nearest1.distance/nearest2.distance)<T:\n",
    "        good_match.append(nearest1)\n",
    "\n",
    "points1=np.float32([kp1[gm.queryIdx].pt for gm in good_match])\n",
    "points2=np.float32([kp2[gm.trainIdx].pt for gm in good_match])\n",
    "\n",
    "H,_=cv.findHomography(points1,points2,cv.RANSAC)\n",
    "\n",
    "h1,w1=img1.shape[0],img1.shape[1]       # 첫 번째 영상의 크기\n",
    "h2,w2=img2.shape[0],img2.shape[1]       # 두 번째 영상의 크기\n",
    "\n",
    "box1=np.float32([[0,0],[0,h1-1],[w1-1,h1-1],[w1-1,0]]).reshape(4,1,2)       # 버스 이미지 크기의 box\n",
    "box2=cv.perspectiveTransform(box1,H)\n",
    "\n",
    "# 위에서 얻어진 값을 통해 이미지에 그림 그리기\n",
    "img2=cv.polylines(img2,[np.int32(box2)],True,(0,255,0),8)\n",
    "\n",
    "img_match=np.empty((max(h1,h2),w1+w2,3),dtype=np.uint8)\n",
    "cv.drawMatches(img1,kp1,img2,kp2,good_match,img_match,flags=cv.DrawMatchesFlags_NOT_DRAW_SINGLE_POINTS)\n",
    "   \n",
    "cv.imshow('Matches and Homography',img_match)\n",
    "\n",
    "k=cv.waitKey()\n",
    "cv.destroyAllWindows()"
   ]
  },
  {
   "cell_type": "code",
   "execution_count": null,
   "metadata": {},
   "outputs": [],
   "source": []
  },
  {
   "cell_type": "code",
   "execution_count": null,
   "metadata": {},
   "outputs": [],
   "source": []
  }
 ],
 "metadata": {
  "kernelspec": {
   "display_name": "venv",
   "language": "python",
   "name": "python3"
  },
  "language_info": {
   "codemirror_mode": {
    "name": "ipython",
    "version": 3
   },
   "file_extension": ".py",
   "mimetype": "text/x-python",
   "name": "python",
   "nbconvert_exporter": "python",
   "pygments_lexer": "ipython3",
   "version": "3.12.8"
  }
 },
 "nbformat": 4,
 "nbformat_minor": 2
}
