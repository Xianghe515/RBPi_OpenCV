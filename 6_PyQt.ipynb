{
 "cells": [
  {
   "cell_type": "code",
   "execution_count": 1,
   "metadata": {},
   "outputs": [
    {
     "name": "stdout",
     "output_type": "stream",
     "text": [
      "Collecting PyQt5\n",
      "  Downloading PyQt5-5.15.11-cp38-abi3-win_amd64.whl.metadata (2.1 kB)\n",
      "Collecting PyQt5-sip<13,>=12.15 (from PyQt5)\n",
      "  Downloading PyQt5_sip-12.17.0-cp312-cp312-win_amd64.whl.metadata (492 bytes)\n",
      "Collecting PyQt5-Qt5<5.16.0,>=5.15.2 (from PyQt5)\n",
      "  Downloading PyQt5_Qt5-5.15.2-py3-none-win_amd64.whl.metadata (552 bytes)\n",
      "Downloading PyQt5-5.15.11-cp38-abi3-win_amd64.whl (6.9 MB)\n",
      "   ---------------------------------------- 0.0/6.9 MB ? eta -:--:--\n",
      "   ---------------------------------------- 6.9/6.9 MB 46.8 MB/s eta 0:00:00\n",
      "Downloading PyQt5_Qt5-5.15.2-py3-none-win_amd64.whl (50.1 MB)\n",
      "   ---------------------------------------- 0.0/50.1 MB ? eta -:--:--\n",
      "   ---------------------------------------- 0.3/50.1 MB ? eta -:--:--\n",
      "   ------- -------------------------------- 9.7/50.1 MB 35.6 MB/s eta 0:00:02\n",
      "   --------------- ------------------------ 19.7/50.1 MB 40.1 MB/s eta 0:00:01\n",
      "   ------------------------- -------------- 31.7/50.1 MB 45.8 MB/s eta 0:00:01\n",
      "   -------------------------------- ------- 40.9/50.1 MB 44.8 MB/s eta 0:00:01\n",
      "   ---------------------------------- ----- 43.3/50.1 MB 38.8 MB/s eta 0:00:01\n",
      "   ---------------------------------------- 50.1/50.1 MB 38.0 MB/s eta 0:00:00\n",
      "Downloading PyQt5_sip-12.17.0-cp312-cp312-win_amd64.whl (58 kB)\n",
      "Installing collected packages: PyQt5-Qt5, PyQt5-sip, PyQt5\n",
      "Successfully installed PyQt5-5.15.11 PyQt5-Qt5-5.15.2 PyQt5-sip-12.17.0\n",
      "Note: you may need to restart the kernel to use updated packages.\n"
     ]
    }
   ],
   "source": [
    "%pip install PyQt5"
   ]
  },
  {
   "cell_type": "code",
   "execution_count": 1,
   "metadata": {},
   "outputs": [
    {
     "data": {
      "text/plain": [
       "0"
      ]
     },
     "execution_count": 1,
     "metadata": {},
     "output_type": "execute_result"
    }
   ],
   "source": [
    "# beep 소리 출력 GUI\n",
    "from PyQt5.QtWidgets import *\n",
    "import sys\n",
    "import winsound     # windows 내 사운드\n",
    "\n",
    "class BeepSound(QMainWindow):\n",
    "    def __init__(self):\n",
    "        super().__init__()\n",
    "        # 윈도우(창) 이름과 위치 지정\n",
    "        self.setWindowTitle('Beep sound')\n",
    "        self.setGeometry(1200,800,500,100)       # setGeometry(ax: int, ay: int, aw: int, ah: int)\n",
    "\n",
    "        # 버튼 생성\n",
    "        shortBeepButton = QPushButton('Beep', self)\n",
    "        longBeepButton = QPushButton('Beeeeep', self)\n",
    "        quitButton = QPushButton('Quit', self)     \n",
    "        self.label=QLabel('환영합니동', self)\n",
    "\n",
    "        # 버튼 위치 지정\n",
    "        shortBeepButton.setGeometry(10, 10, 100, 30)\n",
    "        longBeepButton.setGeometry(110, 10, 100, 30)\n",
    "        quitButton.setGeometry(210, 10, 100, 30)\n",
    "        self.label.setGeometry(10, 40, 500, 70)\n",
    "\n",
    "        # 콜백 함수 지정\n",
    "        shortBeepButton.clicked.connect(self.shortBeepFunction)\n",
    "        longBeepButton.clicked.connect(self.longBeepFunction)\n",
    "        quitButton.clicked.connect(self.quitFunction)\n",
    "\n",
    "    def shortBeepFunction(self):\n",
    "        self.label.setText('1000hz, 0.5s')\n",
    "        winsound.Beep(1000, 500)\n",
    "    def longBeepFunction(self):\n",
    "        self.label.setText('1000hz, 3s')\n",
    "        winsound.Beep(1000, 3000)\n",
    "    def quitFunction(self):\n",
    "        self.close()\n",
    "\n",
    "\n",
    "app = QApplication(sys.argv)\n",
    "win = BeepSound()\n",
    "win.show()\n",
    "app.exec_()"
   ]
  },
  {
   "cell_type": "code",
   "execution_count": null,
   "metadata": {},
   "outputs": [],
   "source": []
  },
  {
   "cell_type": "code",
   "execution_count": null,
   "metadata": {},
   "outputs": [],
   "source": []
  },
  {
   "cell_type": "code",
   "execution_count": null,
   "metadata": {},
   "outputs": [],
   "source": []
  },
  {
   "cell_type": "code",
   "execution_count": null,
   "metadata": {},
   "outputs": [],
   "source": []
  },
  {
   "cell_type": "code",
   "execution_count": null,
   "metadata": {},
   "outputs": [],
   "source": []
  }
 ],
 "metadata": {
  "kernelspec": {
   "display_name": "venv",
   "language": "python",
   "name": "python3"
  },
  "language_info": {
   "codemirror_mode": {
    "name": "ipython",
    "version": 3
   },
   "file_extension": ".py",
   "mimetype": "text/x-python",
   "name": "python",
   "nbconvert_exporter": "python",
   "pygments_lexer": "ipython3",
   "version": "3.12.8"
  }
 },
 "nbformat": 4,
 "nbformat_minor": 2
}
